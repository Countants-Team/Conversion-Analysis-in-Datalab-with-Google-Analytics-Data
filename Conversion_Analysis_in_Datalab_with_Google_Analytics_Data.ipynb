{
 "cells": [
  {
   "cell_type": "code",
   "execution_count": 2,
   "metadata": {
    "collapsed": true
   },
   "outputs": [],
   "source": [
    "import google.datalab.bigquery as bq"
   ]
  },
  {
   "cell_type": "code",
   "execution_count": 3,
   "metadata": {
    "collapsed": true
   },
   "outputs": [],
   "source": [
    "%%bq query -n conversions_device\n",
    "with\n",
    "visits as\n",
    "(SELECT\n",
    "      visitId,\n",
    "       device.deviceCategory as device,\n",
    "       hits.transaction.transactionRevenue as revenue\n",
    "FROM\n",
    "   `bigquery-public-data.google_analytics_sample.ga_sessions_*`,\n",
    "    UNNEST(hits) AS hits\n",
    "where  _TABLE_SUFFIX between '20170701' and '20170801'\n",
    "and hits.transaction.transactionId is not null\n",
    "and geoNetwork.region not in ('not available in demo dataset'))\n",
    "\n",
    "select\n",
    "device,\n",
    "IF( revenue is not null ,'completed','abandoned') as outcome,\n",
    "COUNT(*) AS count\n",
    "FROM visits\n",
    "GROUP BY device, outcome\n",
    "ORDER BY count desc limit 10\n"
   ]
  },
  {
   "cell_type": "code",
   "execution_count": 4,
   "metadata": {
    "collapsed": false
   },
   "outputs": [
    {
     "data": {
      "text/html": [
       "\n",
       "    <div class=\"bqtv\" id=\"1_152835256087\"><table><tr><th>device</th><th>outcome</th><th>count</th></tr><tr><td>desktop</td><td>abandoned</td><td>1562</td></tr><tr><td>desktop</td><td>completed</td><td>1542</td></tr><tr><td>mobile</td><td>abandoned</td><td>45</td></tr><tr><td>mobile</td><td>completed</td><td>43</td></tr><tr><td>tablet</td><td>completed</td><td>3</td></tr><tr><td>tablet</td><td>abandoned</td><td>3</td></tr></table></div>\n",
       "    <br />(rows: 6, time: 2.1s,     2MB processed, job: job_3Bj5tP2SxYrCTcHhrzmp-uKBZ2_E)<br />\n",
       "    <script src=\"/static/components/requirejs/require.js\"></script>\n",
       "    <script>\n",
       "      require.config({\n",
       "        paths: {\n",
       "          base: '/static/base',\n",
       "          d3: '//cdnjs.cloudflare.com/ajax/libs/d3/3.4.13/d3',\n",
       "          plotly: 'https://cdn.plot.ly/plotly-1.5.1.min.js?noext',\n",
       "          jquery: '//ajax.googleapis.com/ajax/libs/jquery/2.0.0/jquery.min'\n",
       "        },\n",
       "        map: {\n",
       "          '*': {\n",
       "            datalab: 'nbextensions/gcpdatalab'\n",
       "          }\n",
       "        },\n",
       "        shim: {\n",
       "          plotly: {\n",
       "            deps: ['d3', 'jquery'],\n",
       "            exports: 'plotly'\n",
       "          }\n",
       "        }\n",
       "      });\n",
       "\n",
       "      require(['datalab/charting', 'datalab/element!1_152835256087', 'base/js/events',\n",
       "          'datalab/style!/nbextensions/gcpdatalab/charting.css'],\n",
       "        function(charts, dom, events) {\n",
       "          charts.render('gcharts', dom, events, 'table', [], {\"rows\": [{\"c\": [{\"v\": \"desktop\"}, {\"v\": \"abandoned\"}, {\"v\": 1562}]}, {\"c\": [{\"v\": \"desktop\"}, {\"v\": \"completed\"}, {\"v\": 1542}]}, {\"c\": [{\"v\": \"mobile\"}, {\"v\": \"abandoned\"}, {\"v\": 45}]}, {\"c\": [{\"v\": \"mobile\"}, {\"v\": \"completed\"}, {\"v\": 43}]}, {\"c\": [{\"v\": \"tablet\"}, {\"v\": \"completed\"}, {\"v\": 3}]}, {\"c\": [{\"v\": \"tablet\"}, {\"v\": \"abandoned\"}, {\"v\": 3}]}], \"cols\": [{\"type\": \"string\", \"id\": \"device\", \"label\": \"device\"}, {\"type\": \"string\", \"id\": \"outcome\", \"label\": \"outcome\"}, {\"type\": \"number\", \"id\": \"count\", \"label\": \"count\"}]},\n",
       "            {\n",
       "              pageSize: 25,\n",
       "              cssClassNames:  {\n",
       "                tableRow: 'gchart-table-row',\n",
       "                headerRow: 'gchart-table-headerrow',\n",
       "                oddTableRow: 'gchart-table-oddrow',\n",
       "                selectedTableRow: 'gchart-table-selectedrow',\n",
       "                hoverTableRow: 'gchart-table-hoverrow',\n",
       "                tableCell: 'gchart-table-cell',\n",
       "                headerCell: 'gchart-table-headercell',\n",
       "                rowNumberCell: 'gchart-table-rownumcell'\n",
       "              }\n",
       "            },\n",
       "            {source_index: 0, fields: 'device,outcome,count'},\n",
       "            0,\n",
       "            6);\n",
       "        }\n",
       "      );\n",
       "    </script>\n",
       "  "
      ],
      "text/plain": [
       "QueryResultsTable job_3Bj5tP2SxYrCTcHhrzmp-uKBZ2_E"
      ]
     },
     "execution_count": 4,
     "metadata": {},
     "output_type": "execute_result"
    }
   ],
   "source": [
    "%%bq execute -q conversions_device"
   ]
  },
  {
   "cell_type": "code",
   "execution_count": 5,
   "metadata": {
    "collapsed": false
   },
   "outputs": [
    {
     "data": {
      "text/html": [
       "\n",
       "    <div class=\"bqgc-container\">\n",
       "      \n",
       "      <div class=\"bqgc \" id=\"1_152835256816\">\n",
       "      </div>\n",
       "    </div>\n",
       "    <script src=\"/static/components/requirejs/require.js\"></script>\n",
       "    <script>\n",
       "\n",
       "      require.config({\n",
       "        paths: {\n",
       "          base: '/static/base',\n",
       "          d3: '//cdnjs.cloudflare.com/ajax/libs/d3/3.4.13/d3',\n",
       "          plotly: 'https://cdn.plot.ly/plotly-1.5.1.min.js?noext',\n",
       "          jquery: '//ajax.googleapis.com/ajax/libs/jquery/2.0.0/jquery.min'\n",
       "        },\n",
       "        map: {\n",
       "          '*': {\n",
       "            datalab: 'nbextensions/gcpdatalab'\n",
       "          }\n",
       "        },\n",
       "        shim: {\n",
       "          plotly: {\n",
       "            deps: ['d3', 'jquery'],\n",
       "            exports: 'plotly'\n",
       "          }\n",
       "        }\n",
       "      });\n",
       "\n",
       "      require(['datalab/charting',\n",
       "               'datalab/element!1_152835256816',\n",
       "               'base/js/events',\n",
       "               'datalab/style!/nbextensions/gcpdatalab/charting.css'\n",
       "              ],\n",
       "        function(charts, dom, events) {\n",
       "          charts.render(\n",
       "              'gcharts',\n",
       "              dom,\n",
       "              events,\n",
       "              'sankey',\n",
       "              [],\n",
       "              {\"rows\": [{\"c\": [{\"v\": \"desktop\"}, {\"v\": \"abandoned\"}, {\"v\": 1562}]}, {\"c\": [{\"v\": \"desktop\"}, {\"v\": \"completed\"}, {\"v\": 1542}]}, {\"c\": [{\"v\": \"mobile\"}, {\"v\": \"abandoned\"}, {\"v\": 45}]}, {\"c\": [{\"v\": \"mobile\"}, {\"v\": \"completed\"}, {\"v\": 43}]}, {\"c\": [{\"v\": \"tablet\"}, {\"v\": \"abandoned\"}, {\"v\": 3}]}, {\"c\": [{\"v\": \"tablet\"}, {\"v\": \"completed\"}, {\"v\": 3}]}], \"cols\": [{\"type\": \"string\", \"id\": \"device\", \"label\": \"device\"}, {\"type\": \"string\", \"id\": \"outcome\", \"label\": \"outcome\"}, {\"type\": \"number\", \"id\": \"count\", \"label\": \"count\"}]},\n",
       "              {\"sankey\": {\"node\": {\"colors\": [\"yellow\", \"red\", \"green\", \"red\", \"brown\"]}}},\n",
       "              {\"fields\": \"*\", \"source_index\": 0, \"name\": 0},\n",
       "              0,\n",
       "              6);\n",
       "          }\n",
       "        );\n",
       "    </script>\n",
       "  "
      ],
      "text/plain": [
       "<IPython.core.display.HTML object>"
      ]
     },
     "execution_count": 5,
     "metadata": {},
     "output_type": "execute_result"
    }
   ],
   "source": [
    "%%chart sankey --data conversions_device\n",
    "{\n",
    "  \"sankey\": {\n",
    "    \"node\": {\n",
    "      \"colors\": [ \"yellow\", \"red\",\"green\",\"red\",\"brown\" ]\n",
    "    }\n",
    "  }\n",
    "}\n"
   ]
  }
 ],
 "metadata": {
  "kernelspec": {
   "display_name": "Python 2",
   "language": "python",
   "name": "python2"
  },
  "language_info": {
   "codemirror_mode": {
    "name": "ipython",
    "version": 2
   },
   "file_extension": ".py",
   "mimetype": "text/x-python",
   "name": "python",
   "nbconvert_exporter": "python",
   "pygments_lexer": "ipython2",
   "version": "2.7.15"
  }
 },
 "nbformat": 4,
 "nbformat_minor": 2
}
